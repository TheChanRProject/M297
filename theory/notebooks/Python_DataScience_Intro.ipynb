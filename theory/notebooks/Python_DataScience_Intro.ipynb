{
 "cells": [
  {
   "cell_type": "markdown",
   "metadata": {},
   "source": [
    "# M297 Introductory Python for Data Science \n",
    "\n",
    "In this notebook, I'll give you a super simple programming introduction in Python. Of course there are many advanced things we can do in Python, but we'll focus primarily on the kind of Python concepts we need for Data Science.\n"
   ]
  },
  {
   "cell_type": "markdown",
   "metadata": {},
   "source": [
    "## Variables\n",
    "\n",
    "Variables are pretty much like placeholders for information that you want to carry in your analysis. \n",
    "\n",
    "For example, if you had some complicated message or number, it would be weird to just consistently type that kind of data over and over again so we store that information as a variable instead. \n",
    "\n",
    "Let's look at an example:\n",
    "   \n",
    "   "
   ]
  },
  {
   "cell_type": "code",
   "execution_count": 2,
   "metadata": {},
   "outputs": [
    {
     "name": "stdout",
     "output_type": "stream",
     "text": [
      "300000000\n",
      "700000000\n",
      "1000000000\n"
     ]
    }
   ],
   "source": [
    "a = 300000000\n",
    "b = 700000000\n",
    "\n",
    "\n",
    "print(a)\n",
    "print(b)\n",
    "\n",
    "# What if we want to add these together? \n",
    "\n",
    "print(a + b)\n"
   ]
  },
  {
   "cell_type": "code",
   "execution_count": null,
   "metadata": {},
   "outputs": [],
   "source": [
    "                                                        "
   ]
  }
 ],
 "metadata": {
  "kernelspec": {
   "display_name": "Python 3",
   "language": "python",
   "name": "python3"
  },
  "language_info": {
   "codemirror_mode": {
    "name": "ipython",
    "version": 3
   },
   "file_extension": ".py",
   "mimetype": "text/x-python",
   "name": "python",
   "nbconvert_exporter": "python",
   "pygments_lexer": "ipython3",
   "version": "3.6.8"
  }
 },
 "nbformat": 4,
 "nbformat_minor": 2
}
