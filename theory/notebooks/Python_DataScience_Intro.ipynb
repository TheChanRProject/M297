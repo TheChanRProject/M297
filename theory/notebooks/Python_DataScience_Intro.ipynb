{
 "cells": [
  {
   "cell_type": "markdown",
   "metadata": {},
   "source": [
    "# M297 Introductory Python for Data Science \n",
    "\n",
    "In this notebook, I'll give you a super simple programming introduction in Python. Of course there are many advanced things we can do in Python, but we'll focus primarily on the kind of Python concepts we need for Data Science.\n"
   ]
  },
  {
   "cell_type": "markdown",
   "metadata": {},
   "source": [
    "## Variables\n",
    "\n",
    "Variables are pretty much like placeholders for information that you want to carry in your analysis. \n",
    "\n",
    "For example, if you had some complicated message or number, it would be weird to just consistently type that kind of data over and over again so we store that information as a variable instead. \n",
    "\n",
    "Let's look at an example:\n",
    "   \n",
    "   "
   ]
  },
  {
   "cell_type": "code",
   "execution_count": 2,
   "metadata": {},
   "outputs": [
    {
     "name": "stdout",
     "output_type": "stream",
     "text": [
      "300000000\n",
      "700000000\n",
      "1000000000\n"
     ]
    }
   ],
   "source": [
    "a = 300000000\n",
    "b = 700000000\n",
    "\n",
    "\n",
    "print(a)\n",
    "print(b)\n",
    "\n",
    "# What if we want to add these together? \n",
    "\n",
    "print(a + b)\n"
   ]
  },
  {
   "cell_type": "markdown",
   "metadata": {},
   "source": [
    "## Data Structures: Lists and Dictionaries \n",
    "\n",
    "Many times, we do not really want to handle one number at a time, but rather collections of numbers for faster calculations. \n",
    "\n",
    "For example, what if we wanted to calculate the mean $ \\mu $ of a list of numbers?\n",
    "\n",
    "$$ \\mu = \\frac{1}{N} \\sum_{i=0}^{N}{x_i} $$"
   ]
  },
  {
   "cell_type": "code",
   "execution_count": 1,
   "metadata": {},
   "outputs": [
    {
     "name": "stdout",
     "output_type": "stream",
     "text": [
      "𝜇 is 5.0\n"
     ]
    }
   ],
   "source": [
    "# Let's generate a list of numbers from 0 to 10 \n",
    "\n",
    "nums = [0,1,2,3,4,5,6,7,8,9,10]\n",
    "\n",
    "# to get the number of numbers of in the list, we can use a function called len() \n",
    "\n",
    "n_nums = len(nums) \n",
    "\n",
    "# to add up all the numbers in nums, we can use the sum() function \n",
    "\n",
    "total_nums = sum(nums) \n",
    "\n",
    "# the mean is just the sum divided by the length \n",
    "\n",
    "mean = total_nums / n_nums \n",
    "\n",
    "print(f\"𝜇 is {mean}\") "
   ]
  },
  {
   "cell_type": "markdown",
   "metadata": {},
   "source": [
    "What if we wanted to generate a larger sequence of numbers? Using a concept in programming called iterations, we can use a for loop to do an operation to every number within the collection such as a list and even more so, we can even put the for loop inside of a list to create a brand new list. This concept is known as a list comprehension in Python. \n",
    "\n"
   ]
  },
  {
   "cell_type": "code",
   "execution_count": 7,
   "metadata": {},
   "outputs": [
    {
     "name": "stdout",
     "output_type": "stream",
     "text": [
      "[0, 1, 2, 3, 4, 5, 6, 7, 8, 9, 10, 11, 12, 13, 14, 15, 16, 17, 18, 19, 20, 21, 22, 23, 24, 25, 26, 27, 28, 29, 30, 31, 32, 33, 34, 35, 36, 37, 38, 39, 40, 41, 42, 43, 44, 45, 46, 47, 48, 49]\n"
     ]
    },
    {
     "data": {
      "text/plain": [
       "50"
      ]
     },
     "execution_count": 7,
     "metadata": {},
     "output_type": "execute_result"
    }
   ],
   "source": [
    "# list comprehension example \n",
    "\n",
    "# creating a sequence of numbers from 0 to 49\n",
    "sequenceNums = [i for i in range(50)] \n",
    "print(sequenceNums) \n",
    "len(sequenceNums) "
   ]
  },
  {
   "cell_type": "code",
   "execution_count": 5,
   "metadata": {},
   "outputs": [
    {
     "name": "stdout",
     "output_type": "stream",
     "text": [
      "[28, 81, 20, 67, 16, 66, 86, 62, 65, 34, 46, 80, 97, 65, 29, 44, 21, 36, 100, 77, 2, 93, 48, 76, 36, 31, 95, 37, 8, 64, 3, 37, 34, 24, 76, 49, 34, 92, 42, 65, 8, 95, 1, 41, 84, 96, 88, 33, 49, 61]\n"
     ]
    },
    {
     "data": {
      "text/plain": [
       "50"
      ]
     },
     "execution_count": 5,
     "metadata": {},
     "output_type": "execute_result"
    }
   ],
   "source": [
    "# Generating a list of 50 random numbers from 0 to 100 \n",
    "import random\n",
    "randNums = [random.randint(0,100) for i in range(50)]\n",
    "print(randNums)\n",
    "len(randNums) "
   ]
  },
  {
   "cell_type": "code",
   "execution_count": null,
   "metadata": {},
   "outputs": [],
   "source": []
  }
 ],
 "metadata": {
  "kernelspec": {
   "display_name": "Python 3",
   "language": "python",
   "name": "python3"
  },
  "language_info": {
   "codemirror_mode": {
    "name": "ipython",
    "version": 3
   },
   "file_extension": ".py",
   "mimetype": "text/x-python",
   "name": "python",
   "nbconvert_exporter": "python",
   "pygments_lexer": "ipython3",
   "version": "3.6.8"
  },
  "nbTranslate": {
   "displayLangs": [
    "*"
   ],
   "hotkey": "alt-t",
   "langInMainMenu": true,
   "sourceLang": "en",
   "targetLang": "fr",
   "useGoogleTranslate": true
  }
 },
 "nbformat": 4,
 "nbformat_minor": 2
}
