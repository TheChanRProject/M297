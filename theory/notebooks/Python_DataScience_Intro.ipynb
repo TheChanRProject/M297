{
 "cells": [
  {
   "cell_type": "markdown",
   "metadata": {},
   "source": [
    "# M297 Introductory Python for Data Science \n",
    "\n",
    "In this notebook, I'll give you a super simple programming introduction in Python. Of course there are many advanced things we can do in Python, but we'll focus primarily on the kind of Python concepts we need for Data Science.\n"
   ]
  },
  {
   "cell_type": "markdown",
   "metadata": {},
   "source": [
    "## Variables\n",
    "\n",
    "Variables are pretty much like placeholders for information that you want to carry in your analysis. \n",
    "\n",
    "For example, if you had some complicated message or number, it would be weird to just consistently type that kind of data over and over again so we store that information as a variable instead. \n",
    "\n",
    "Let's look at an example:\n",
    "   \n",
    "   "
   ]
  },
  {
   "cell_type": "code",
   "execution_count": 2,
   "metadata": {},
   "outputs": [
    {
     "name": "stdout",
     "output_type": "stream",
     "text": [
      "300000000\n",
      "700000000\n",
      "1000000000\n"
     ]
    }
   ],
   "source": [
    "a = 300000000\n",
    "b = 700000000\n",
    "\n",
    "\n",
    "print(a)\n",
    "print(b)\n",
    "\n",
    "# What if we want to add these together? \n",
    "\n",
    "print(a + b)\n"
   ]
  },
  {
   "cell_type": "markdown",
   "metadata": {},
   "source": [
    "## Data Structures: Lists and Dictionaries \n",
    "\n",
    "Many times, we do not really want to handle one number at a time, but rather collections of numbers for faster calculations. \n",
    "\n",
    "For example, what if we wanted to calculate the mean $ \\mu $ of a list of numbers?\n",
    "\n",
    "$$ \\mu = \\frac{1}{N} \\sum_{i=0}^{N}{x_i} $$"
   ]
  },
  {
   "cell_type": "code",
   "execution_count": 1,
   "metadata": {},
   "outputs": [
    {
     "name": "stdout",
     "output_type": "stream",
     "text": [
      "𝜇 is 5.0\n"
     ]
    }
   ],
   "source": [
    "# Let's generate a list of numbers from 0 to 10 \n",
    "\n",
    "nums = [0,1,2,3,4,5,6,7,8,9,10]\n",
    "\n",
    "# to get the number of numbers of in the list, we can use a function called len() \n",
    "\n",
    "n_nums = len(nums) \n",
    "\n",
    "# to add up all the numbers in nums, we can use the sum() function \n",
    "\n",
    "total_nums = sum(nums) \n",
    "\n",
    "# the mean is just the sum divided by the length \n",
    "\n",
    "mean = total_nums / n_nums \n",
    "\n",
    "print(f\"𝜇 is {mean}\") "
   ]
  },
  {
   "cell_type": "markdown",
   "metadata": {},
   "source": [
    "What if we wanted to generate a larger sequence of numbers? Using a concept in programming called iterations, we can use a for loop to do an operation to every number within the collection such as a list and even more so, we can even put the for loop inside of a list to create a brand new list. This concept is known as a list comprehension in Python. \n",
    "\n"
   ]
  },
  {
   "cell_type": "code",
   "execution_count": 24,
   "metadata": {},
   "outputs": [
    {
     "name": "stdout",
     "output_type": "stream",
     "text": [
      "[0, 1, 2, 3, 4, 5, 6, 7, 8, 9, 10, 11, 12, 13, 14, 15, 16, 17, 18, 19, 20, 21, 22, 23, 24, 25, 26, 27, 28, 29, 30, 31, 32, 33, 34, 35, 36, 37, 38, 39, 40, 41, 42, 43, 44, 45, 46, 47, 48, 49]\n",
      "0\n",
      "49\n",
      "[0, 1, 2, 3, 4, 5, 6, 7, 8, 9]\n",
      "[0, 1, 2, 3, 4, 5, 6, 7, 8, 9, 10, 11, 12, 13, 14, 15, 16, 17, 18, 19, 20, 21, 22, 23, 24, 25, 26, 27, 28, 29, 30, 31, 32, 33, 34, 35, 36, 37, 38, 39, 40, 41, 42, 43, 44, 45, 46, 47, 48, 49, 50]\n",
      "[0, 1, 2, 3, 4, 5, 6, 7, 8, 9, 10, 11, 12, 13, 14, 15, 16, 17, 18, 19, 20, 21, 22, 23, 24, 25, 26, 27, 28, 29, 30, 31, 32, 33, 34, 35, 36, 37, 38, 39, 40, 41, 42, 43, 44, 45, 46, 47, 48, 49]\n"
     ]
    }
   ],
   "source": [
    "# list comprehension example \n",
    "\n",
    "# creating a sequence of numbers from 0 to 49\n",
    "sequenceNums = [i for i in range(50)] \n",
    "print(sequenceNums) \n",
    "len(sequenceNums) \n",
    "\n",
    "# What if we want to get the first number from this list? \n",
    "print(sequenceNums[0]) \n",
    "# What if we want to get the last number from this list? \n",
    "print(sequenceNums[-1]) \n",
    "# What if we want to get the first 10 numbers from this list?\n",
    "print(sequenceNums[0:10])  \n",
    "\n",
    "# What if we want to add a number to our list? \n",
    "sequenceNums.append(50) \n",
    "print(sequenceNums) \n",
    "# What if we want to remove the last number? \n",
    "sequenceNums.remove(sequenceNums[-1])\n",
    "print(sequenceNums)\n"
   ]
  },
  {
   "cell_type": "code",
   "execution_count": 8,
   "metadata": {},
   "outputs": [
    {
     "name": "stdout",
     "output_type": "stream",
     "text": [
      "[93, 89, 88, 46, 16, 81, 46, 71, 4, 41, 25, 94, 29, 51, 32, 50, 9, 5, 84, 68, 63, 15, 53, 57, 87, 72, 99, 50, 71, 60, 55, 10, 38, 25, 96, 17, 75, 66, 83, 91, 27, 37, 43, 16, 15, 56, 27, 17, 27, 44]\n"
     ]
    },
    {
     "data": {
      "text/plain": [
       "50"
      ]
     },
     "execution_count": 8,
     "metadata": {},
     "output_type": "execute_result"
    }
   ],
   "source": [
    "# Generating a list of 50 random integers from 0 to 100 \n",
    "import random\n",
    "randNums = [random.randint(0,100) for i in range(50)]\n",
    "print(randNums)\n",
    "len(randNums) "
   ]
  },
  {
   "cell_type": "markdown",
   "metadata": {},
   "source": [
    "Dictionaries are basically just like they sound like. If you know the name of a word, you can look up its meaning. In Python, meaning is basically the value of the word you know the name of which is referred to as a key. In other words, a dictionary has a bunch of key, value pairs. This will be really useful when we want to look up values of certain columns in our datasets in the Pandas data analysis package in Python. "
   ]
  },
  {
   "cell_type": "code",
   "execution_count": 28,
   "metadata": {},
   "outputs": [
    {
     "name": "stdout",
     "output_type": "stream",
     "text": [
      "{'birds': ['mockingbird', 'crow', 'sparrow', 'nightingale'], 'burgers': ['chicken', 'veggie', 'impossible', 'beef', 'lamb', 'fish', 'tofu']}\n",
      "['mockingbird', 'crow', 'sparrow', 'nightingale']\n",
      "mockingbird\n",
      "['birds', 'burgers']\n"
     ]
    }
   ],
   "source": [
    "# example dictionary \n",
    "\n",
    "myDictionary = {'birds': ['mockingbird', 'crow', 'sparrow', 'nightingale'], 'burgers': ['chicken', 'veggie', 'impossible', 'beef', 'lamb', 'fish', 'tofu']}\n",
    "print(myDictionary)\n",
    "\n",
    "# What if we just want to access the list of birds? We can look up the value of the key, birds as follows:\n",
    "print(myDictionary['birds']) \n",
    "# What if we want to get 'mockingbird' from the birds list?\n",
    "print(myDictionary['birds'][0]) \n",
    "# What if we want a list of all the keys in the dictionary? Use the list() function\n",
    "print(list(myDictionary.keys())) "
   ]
  },
  {
   "cell_type": "markdown",
   "metadata": {},
   "source": [
    "## Functions \n",
    "\n",
    "Functions are just like they sound. They can have or not have inputs and definitely give you an output. This is super useful in programming because we want to be able to reuse certain parts of our programs for various tasks. In data science, we can go all the way from loading the data to making various plots of the data in a function which makes it a powerful concept in programming. "
   ]
  },
  {
   "cell_type": "code",
   "execution_count": 29,
   "metadata": {},
   "outputs": [
    {
     "ename": "AttributeError",
     "evalue": "module 'random' has no attribute 'rand'",
     "output_type": "error",
     "traceback": [
      "\u001b[0;31m---------------------------------------------------------------------------\u001b[0m",
      "\u001b[0;31mAttributeError\u001b[0m                            Traceback (most recent call last)",
      "\u001b[0;32m<ipython-input-29-a773ec3d05ff>\u001b[0m in \u001b[0;36m<module>\u001b[0;34m\u001b[0m\n\u001b[1;32m      6\u001b[0m \u001b[0;31m# Let's test out this function on a generated list of 50 random numbers from 0 to 1000\u001b[0m\u001b[0;34m\u001b[0m\u001b[0;34m\u001b[0m\u001b[0;34m\u001b[0m\u001b[0m\n\u001b[1;32m      7\u001b[0m \u001b[0;34m\u001b[0m\u001b[0m\n\u001b[0;32m----> 8\u001b[0;31m \u001b[0mprint\u001b[0m\u001b[0;34m(\u001b[0m\u001b[0mmean\u001b[0m\u001b[0;34m(\u001b[0m\u001b[0;34m[\u001b[0m\u001b[0mrandom\u001b[0m\u001b[0;34m.\u001b[0m\u001b[0mrand\u001b[0m\u001b[0;34m(\u001b[0m\u001b[0;36m0\u001b[0m\u001b[0;34m,\u001b[0m\u001b[0;36m1000\u001b[0m\u001b[0;34m)\u001b[0m \u001b[0;32mfor\u001b[0m \u001b[0mi\u001b[0m \u001b[0;32min\u001b[0m \u001b[0mrange\u001b[0m\u001b[0;34m(\u001b[0m\u001b[0;36m50\u001b[0m\u001b[0;34m)\u001b[0m\u001b[0;34m]\u001b[0m\u001b[0;34m)\u001b[0m\u001b[0;34m)\u001b[0m\u001b[0;34m\u001b[0m\u001b[0;34m\u001b[0m\u001b[0m\n\u001b[0m",
      "\u001b[0;32m<ipython-input-29-a773ec3d05ff>\u001b[0m in \u001b[0;36m<listcomp>\u001b[0;34m(.0)\u001b[0m\n\u001b[1;32m      6\u001b[0m \u001b[0;31m# Let's test out this function on a generated list of 50 random numbers from 0 to 1000\u001b[0m\u001b[0;34m\u001b[0m\u001b[0;34m\u001b[0m\u001b[0;34m\u001b[0m\u001b[0m\n\u001b[1;32m      7\u001b[0m \u001b[0;34m\u001b[0m\u001b[0m\n\u001b[0;32m----> 8\u001b[0;31m \u001b[0mprint\u001b[0m\u001b[0;34m(\u001b[0m\u001b[0mmean\u001b[0m\u001b[0;34m(\u001b[0m\u001b[0;34m[\u001b[0m\u001b[0mrandom\u001b[0m\u001b[0;34m.\u001b[0m\u001b[0mrand\u001b[0m\u001b[0;34m(\u001b[0m\u001b[0;36m0\u001b[0m\u001b[0;34m,\u001b[0m\u001b[0;36m1000\u001b[0m\u001b[0;34m)\u001b[0m \u001b[0;32mfor\u001b[0m \u001b[0mi\u001b[0m \u001b[0;32min\u001b[0m \u001b[0mrange\u001b[0m\u001b[0;34m(\u001b[0m\u001b[0;36m50\u001b[0m\u001b[0;34m)\u001b[0m\u001b[0;34m]\u001b[0m\u001b[0;34m)\u001b[0m\u001b[0;34m)\u001b[0m\u001b[0;34m\u001b[0m\u001b[0;34m\u001b[0m\u001b[0m\n\u001b[0m",
      "\u001b[0;31mAttributeError\u001b[0m: module 'random' has no attribute 'rand'"
     ]
    }
   ],
   "source": [
    "# example of a function to calculate the mean of any collection \n",
    "\n",
    "def mean(nums):\n",
    "    return sum(nums) / len(nums) \n",
    "\n",
    "# Let's test out this function on a generated list of 50 random numbers from 0 to 1000 \n",
    "\n",
    "print(mean([random.randn(0,1000) for i in range(50)])) \n"
   ]
  },
  {
   "cell_type": "code",
   "execution_count": null,
   "metadata": {},
   "outputs": [],
   "source": []
  }
 ],
 "metadata": {
  "kernelspec": {
   "display_name": "Python 3",
   "language": "python",
   "name": "python3"
  },
  "language_info": {
   "codemirror_mode": {
    "name": "ipython",
    "version": 3
   },
   "file_extension": ".py",
   "mimetype": "text/x-python",
   "name": "python",
   "nbconvert_exporter": "python",
   "pygments_lexer": "ipython3",
   "version": "3.6.8"
  },
  "nbTranslate": {
   "displayLangs": [
    "*"
   ],
   "hotkey": "alt-t",
   "langInMainMenu": true,
   "sourceLang": "en",
   "targetLang": "fr",
   "useGoogleTranslate": true
  }
 },
 "nbformat": 4,
 "nbformat_minor": 2
}
