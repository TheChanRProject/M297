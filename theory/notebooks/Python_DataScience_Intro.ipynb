{
 "cells": [
  {
   "cell_type": "markdown",
   "metadata": {},
   "source": [
    "# M297 Introductory Python for Data Science \n",
    "\n",
    "In this notebook, I'll give you a super simple programming introduction in Python. Of course there are many advanced things we can do in Python, but we'll focus primarily on the kind of Python concepts we need for Data Science.\n"
   ]
  },
  {
   "cell_type": "markdown",
   "metadata": {},
   "source": [
    "## Variables\n",
    "\n",
    "Variables are pretty much like placeholders for information that you want to carry in your analysis. \n",
    "\n",
    "For example, if you had some complicated message or number, it would be weird to just consistently type that kind of data over and over again so we store that information as a variable instead. \n",
    "\n",
    "Let's look at an example:\n",
    "   \n",
    "   "
   ]
  },
  {
   "cell_type": "code",
   "execution_count": 2,
   "metadata": {},
   "outputs": [
    {
     "name": "stdout",
     "output_type": "stream",
     "text": [
      "300000000\n",
      "700000000\n",
      "1000000000\n"
     ]
    }
   ],
   "source": [
    "a = 300000000\n",
    "b = 700000000\n",
    "\n",
    "\n",
    "print(a)\n",
    "print(b)\n",
    "\n",
    "# What if we want to add these together? \n",
    "\n",
    "print(a + b)\n"
   ]
  },
  {
   "cell_type": "markdown",
   "metadata": {},
   "source": [
    "## Data Structures: Lists and Dictionaries \n",
    "\n",
    "Many times, we do not really want to handle one number at a time, but rather collections of numbers for faster calculations. \n",
    "\n",
    "For example, what if we wanted to calculate the mean $ \\mu $ of a list of numbers?\n",
    "\n",
    "$$ \\mu = \\frac{1}{N} \\sum_{i=0}^{N}{x_i} $$"
   ]
  },
  {
   "cell_type": "code",
   "execution_count": 1,
   "metadata": {},
   "outputs": [
    {
     "name": "stdout",
     "output_type": "stream",
     "text": [
      "𝜇 is 5.0\n"
     ]
    }
   ],
   "source": [
    "# Let's generate a list of numbers from 0 to 10 \n",
    "\n",
    "nums = [0,1,2,3,4,5,6,7,8,9,10]\n",
    "\n",
    "# to get the number of numbers of in the list, we can use a function called len() \n",
    "\n",
    "n_nums = len(nums) \n",
    "\n",
    "# to add up all the numbers in nums, we can use the sum() function \n",
    "\n",
    "total_nums = sum(nums) \n",
    "\n",
    "# the mean is just the sum divided by the length \n",
    "\n",
    "mean = total_nums / n_nums \n",
    "\n",
    "print(f\"𝜇 is {mean}\") "
   ]
  },
  {
   "cell_type": "markdown",
   "metadata": {},
   "source": [
    "What if we wanted to generate a larger sequence of numbers? Using a concept in programming called iterations, we can use a for loop to do an operation to every number within the collection such as a list and even more so, we can even put the for loop inside of a list to create a brand new list. This concept is known as a list comprehension in Python. \n",
    "\n"
   ]
  },
  {
   "cell_type": "code",
   "execution_count": 24,
   "metadata": {},
   "outputs": [
    {
     "name": "stdout",
     "output_type": "stream",
     "text": [
      "[0, 1, 2, 3, 4, 5, 6, 7, 8, 9, 10, 11, 12, 13, 14, 15, 16, 17, 18, 19, 20, 21, 22, 23, 24, 25, 26, 27, 28, 29, 30, 31, 32, 33, 34, 35, 36, 37, 38, 39, 40, 41, 42, 43, 44, 45, 46, 47, 48, 49]\n",
      "0\n",
      "49\n",
      "[0, 1, 2, 3, 4, 5, 6, 7, 8, 9]\n",
      "[0, 1, 2, 3, 4, 5, 6, 7, 8, 9, 10, 11, 12, 13, 14, 15, 16, 17, 18, 19, 20, 21, 22, 23, 24, 25, 26, 27, 28, 29, 30, 31, 32, 33, 34, 35, 36, 37, 38, 39, 40, 41, 42, 43, 44, 45, 46, 47, 48, 49, 50]\n",
      "[0, 1, 2, 3, 4, 5, 6, 7, 8, 9, 10, 11, 12, 13, 14, 15, 16, 17, 18, 19, 20, 21, 22, 23, 24, 25, 26, 27, 28, 29, 30, 31, 32, 33, 34, 35, 36, 37, 38, 39, 40, 41, 42, 43, 44, 45, 46, 47, 48, 49]\n"
     ]
    }
   ],
   "source": [
    "# list comprehension example \n",
    "\n",
    "# creating a sequence of numbers from 0 to 49\n",
    "sequenceNums = [i for i in range(50)] \n",
    "print(sequenceNums) \n",
    "len(sequenceNums) \n",
    "\n",
    "# What if we want to get the first number from this list? \n",
    "print(sequenceNums[0]) \n",
    "# What if we want to get the last number from this list? \n",
    "print(sequenceNums[-1]) \n",
    "# What if we want to get the first 10 numbers from this list?\n",
    "print(sequenceNums[0:10])  \n",
    "\n",
    "# What if we want to add a number to our list? \n",
    "sequenceNums.append(50) \n",
    "print(sequenceNums) \n",
    "# What if we want to remove the last number? \n",
    "sequenceNums.remove(sequenceNums[-1])\n",
    "print(sequenceNums)\n"
   ]
  },
  {
   "cell_type": "code",
   "execution_count": 8,
   "metadata": {},
   "outputs": [
    {
     "name": "stdout",
     "output_type": "stream",
     "text": [
      "[93, 89, 88, 46, 16, 81, 46, 71, 4, 41, 25, 94, 29, 51, 32, 50, 9, 5, 84, 68, 63, 15, 53, 57, 87, 72, 99, 50, 71, 60, 55, 10, 38, 25, 96, 17, 75, 66, 83, 91, 27, 37, 43, 16, 15, 56, 27, 17, 27, 44]\n"
     ]
    },
    {
     "data": {
      "text/plain": [
       "50"
      ]
     },
     "execution_count": 8,
     "metadata": {},
     "output_type": "execute_result"
    }
   ],
   "source": [
    "# Generating a list of 50 random integers from 0 to 100 \n",
    "import random\n",
    "randNums = [random.randint(0,100) for i in range(50)]\n",
    "print(randNums)\n",
    "len(randNums) "
   ]
  },
  {
   "cell_type": "markdown",
   "metadata": {},
   "source": [
    "Dictionaries are basically just like they sound like. If you know the name of a word, you can look up its meaning. In Python, meaning is basically the value of the word you know the name of which is referred to as a key. In other words, a dictionary has a bunch of key, value pairs. This will be really useful when we want to look up values of certain columns in our datasets in the Pandas data analysis package in Python. "
   ]
  },
  {
   "cell_type": "code",
   "execution_count": 28,
   "metadata": {},
   "outputs": [
    {
     "name": "stdout",
     "output_type": "stream",
     "text": [
      "{'birds': ['mockingbird', 'crow', 'sparrow', 'nightingale'], 'burgers': ['chicken', 'veggie', 'impossible', 'beef', 'lamb', 'fish', 'tofu']}\n",
      "['mockingbird', 'crow', 'sparrow', 'nightingale']\n",
      "mockingbird\n",
      "['birds', 'burgers']\n"
     ]
    }
   ],
   "source": [
    "# example dictionary \n",
    "\n",
    "myDictionary = {'birds': ['mockingbird', 'crow', 'sparrow', 'nightingale'], 'burgers': ['chicken', 'veggie', 'impossible', 'beef', 'lamb', 'fish', 'tofu']}\n",
    "print(myDictionary)\n",
    "\n",
    "# What if we just want to access the list of birds? We can look up the value of the key, birds as follows:\n",
    "print(myDictionary['birds']) \n",
    "# What if we want to get 'mockingbird' from the birds list?\n",
    "print(myDictionary['birds'][0]) \n",
    "# What if we want a list of all the keys in the dictionary? Use the list() function\n",
    "print(list(myDictionary.keys())) "
   ]
  },
  {
   "cell_type": "markdown",
   "metadata": {},
   "source": [
    "## Functions \n",
    "\n",
    "Functions are just like they sound. They can have or not have inputs and definitely give you an output. This is super useful in programming because we want to be able to reuse certain parts of our programs for various tasks. In data science, we can go all the way from loading the data to making various plots of the data in a function which makes it a powerful concept in programming. "
   ]
  },
  {
   "cell_type": "code",
   "execution_count": 35,
   "metadata": {},
   "outputs": [
    {
     "name": "stdout",
     "output_type": "stream",
     "text": [
      "443.74\n"
     ]
    }
   ],
   "source": [
    "# example of a function to calculate the mean of any collection \n",
    "\n",
    "def mean(nums):\n",
    "    return sum(nums) / len(nums) \n",
    "\n",
    "# Let's test out this function on a generated list of 50 random integers from 0 to 1000 \n",
    "\n",
    "print(mean([random.randint(0,1000) for i in range(50)]))  \n"
   ]
  },
  {
   "cell_type": "markdown",
   "metadata": {},
   "source": [
    "## Numpy \n",
    "\n",
    "Numpy stands for numerical python which is used a lot for doing calculations on data that isn't limited by a list. Sometimes we want to be able to store numbers and data into a matrix and this can be done easily in Numpy as well as being able to do operations with otehr matrices and vectors. We can even get some interesting summary statistics, generate numbers, and we can also  solve systems of equations. "
   ]
  },
  {
   "cell_type": "code",
   "execution_count": 44,
   "metadata": {},
   "outputs": [
    {
     "name": "stdout",
     "output_type": "stream",
     "text": [
      "[0 1 2 3 4 5 6 7 8 9]\n",
      "(10,)\n",
      "[[0 1 2 3 4]\n",
      " [5 6 7 8 9]]\n",
      "(2, 5)\n",
      "8\n"
     ]
    }
   ],
   "source": [
    "# let's convert a list of 10 numbers into a numpy array with 2 rows and 5 columns (a 2x5 matrix) \n",
    "import numpy as np\n",
    "ten_nums = [i for i in range(10)] \n",
    "ten_array = np.array(ten_nums) \n",
    "print(ten_array)\n",
    "print(ten_array.shape)\n",
    "ten_matrix = ten_array.reshape(2,5) \n",
    "print(ten_matrix)\n",
    "print(ten_matrix.shape)  \n",
    "\n",
    "# let's try to get the number in the 4th column in the 2nd row.\n",
    "\n",
    "print(ten_matrix[1][3]) \n",
    "\n"
   ]
  },
  {
   "cell_type": "markdown",
   "metadata": {},
   "source": [
    "What if we wanted to solve a system of linear equations? \n",
    "\n",
    "For example solving for x and y in the following:\n",
    "\n",
    "$$ 3x + 4y = 10 $$\n",
    "$$ 2x + 3y = 7 $$ \n",
    "\n"
   ]
  },
  {
   "cell_type": "code",
   "execution_count": 51,
   "metadata": {},
   "outputs": [
    {
     "name": "stdout",
     "output_type": "stream",
     "text": [
      "x is 2.0 and y is 1.0 \n"
     ]
    }
   ],
   "source": [
    "# solving the above system with numpy \n",
    "\n",
    "# we'll keep the coefficients of x and y in its own matrix and the numbers 10 and 7 in another matrix. \n",
    "\n",
    "matrix_a = np.array([3,4,2,3]).reshape(2,2)\n",
    "matrix_b = np.array([10,7]) \n",
    "\n",
    "# use np.linalg.solve(a,b) to solve the system of equations \n",
    "\n",
    "print(f\"x is {round(np.linalg.solve(matrix_a, matrix_b)[0])} and y is {round(np.linalg.solve(matrix_a, matrix_b)[1])} \") \n"
   ]
  },
  {
   "cell_type": "markdown",
   "metadata": {},
   "source": [
    "## Pandas \n",
    "\n",
    "This is the package in Python that really helps us do some cool stuff with analyzing data. Since it's so extensive, we'll only look at a few features that are really handy for the tutorial we're going to do with the Boston Housing dataset. "
   ]
  },
  {
   "cell_type": "code",
   "execution_count": 60,
   "metadata": {},
   "outputs": [
    {
     "name": "stdout",
     "output_type": "stream",
     "text": [
      "0    -0.534487\n",
      "1     0.047679\n",
      "2    -1.349423\n",
      "3    -0.651031\n",
      "4     1.036574\n",
      "5     0.814478\n",
      "6    -1.140341\n",
      "7    -1.662922\n",
      "8    -0.818976\n",
      "9    -1.847582\n",
      "10   -0.552704\n",
      "11   -0.291488\n",
      "12    1.033004\n",
      "13   -0.052482\n",
      "14    0.782225\n",
      "15    0.477553\n",
      "16   -0.317677\n",
      "17    1.115815\n",
      "18    0.067356\n",
      "19   -0.352074\n",
      "20   -0.425968\n",
      "21   -1.087061\n",
      "22    0.517688\n",
      "23   -0.456893\n",
      "24   -1.062250\n",
      "25   -1.522507\n",
      "26   -0.740599\n",
      "27    0.431170\n",
      "28   -0.796963\n",
      "29   -0.500425\n",
      "30    0.510907\n",
      "31    1.059819\n",
      "32   -0.773968\n",
      "33   -1.573701\n",
      "34   -1.008079\n",
      "35    0.835911\n",
      "36    0.098540\n",
      "37   -0.304328\n",
      "38    1.454337\n",
      "39    0.604341\n",
      "40    0.315380\n",
      "41   -0.962313\n",
      "42    0.135408\n",
      "43   -1.197189\n",
      "44    0.091970\n",
      "45    1.262085\n",
      "46   -1.848187\n",
      "47    0.341207\n",
      "48   -0.296334\n",
      "49   -0.673495\n",
      "Name: col2, dtype: float64\n"
     ]
    }
   ],
   "source": [
    "# Generate random data into a dictionary\n",
    "\n",
    "panDict = {'col1': np.random.randn(50), 'col2': np.random.randn(50)} \n",
    "\n",
    "\n",
    "# Import pandas \n",
    "\n",
    "import pandas as pd \n",
    "\n",
    "# Create a dataframe \n",
    "\n",
    "sample = pd.DataFrame.from_dict(panDict) \n",
    "\n",
    "# Let's view the data frame \n",
    "\n",
    "sample.head() \n",
    "\n",
    "# Let's see the values which are greater than 0.5 in col2 \n",
    "\n",
    "print(sample['col2'])"
   ]
  },
  {
   "cell_type": "code",
   "execution_count": null,
   "metadata": {},
   "outputs": [],
   "source": []
  }
 ],
 "metadata": {
  "kernelspec": {
   "display_name": "Python 3",
   "language": "python",
   "name": "python3"
  },
  "language_info": {
   "codemirror_mode": {
    "name": "ipython",
    "version": 3
   },
   "file_extension": ".py",
   "mimetype": "text/x-python",
   "name": "python",
   "nbconvert_exporter": "python",
   "pygments_lexer": "ipython3",
   "version": "3.6.8"
  },
  "nbTranslate": {
   "displayLangs": [
    "*"
   ],
   "hotkey": "alt-t",
   "langInMainMenu": true,
   "sourceLang": "en",
   "targetLang": "fr",
   "useGoogleTranslate": true
  }
 },
 "nbformat": 4,
 "nbformat_minor": 2
}
