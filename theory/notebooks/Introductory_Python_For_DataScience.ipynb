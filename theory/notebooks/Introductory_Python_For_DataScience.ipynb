{
 "cells": [
  {
   "cell_type": "markdown",
   "metadata": {},
   "source": [
    "<h1><center>Introductory Python for Data Science Notebook</center></h1>"
   ]
  },
  {
   "cell_type": "markdown",
   "metadata": {},
   "source": [
    "<h1><center>Variables and Data Types</center></h1>\n",
    "<h1><center>Introductory Data Structures</center></h1>\n",
    "<h1><center>For Loops and While Loops</center></h1>\n",
    "<h1><center>Functions</center></h1>\n",
    "<h1><center>Basic Numpy and Pandas Operations</center></h1>\n",
    "<h1><center>Basic Matplotlib Visualization</center></h1>"
   ]
  },
  {
   "cell_type": "markdown",
   "metadata": {},
   "source": [
    "<h1><center>1.Variables and Data Types</center></h1>\n",
    "\n",
    "## Variables: \n",
    "##### you can think of variables as box containers that reserved memory locations to store values. This means that when you create a variable you reserve some space in memory.\n",
    "\n",
    "## Data Types:\n",
    "##### in Python every value have a data type such as:\n",
    "\n",
    "### Numbers:\n",
    "##### There are two types of number:\n",
    "##### integers: which are whole numbers\n",
    "##### floating: which are numbers with decimal\n",
    "\n",
    "### Strings: \n",
    "##### Strings are collections of letters or words In Python, you can create strings by enclosing single or double quotes\n",
    "\n",
    "### Lists:\n",
    "##### The list type is a container that holds bunch of objects in a given order and it also allows you to add and remove objects\n",
    "\n",
    "### Tuples: \n",
    "##### A tuple is a sequence of immutable objects they are just like lists The differences between tuples and lists are, the tuples cannot be changed unlike lists and tuples use parentheses, whereas lists use square brackets.\n",
    "\n",
    "### Dictionaries:\n",
    "##### A dictionary in Python is an unordered collection of items that contain two element and they are keys and values "
   ]
  },
  {
   "cell_type": "markdown",
   "metadata": {},
   "source": [
    "### We created a program that calculate the sum of two number and we printed out the result using the print() function and of course we can apply that for multiplication and division and the subtraction"
   ]
  },
  {
   "cell_type": "markdown",
   "metadata": {},
   "source": [
    "![title](..images/pic1.png)"
   ]
  },
  {
   "cell_type": "markdown",
   "metadata": {},
   "source": [
    "### As we can can get the sum of two numbers we can do that for strings to"
   ]
  },
  {
   "cell_type": "markdown",
   "metadata": {},
   "source": [
    "![title](..images/pic2.png)"
   ]
  },
  {
   "cell_type": "markdown",
   "metadata": {},
   "source": [
    "<h1><center>Introductory Data Structures</center></h1>\n",
    "\n",
    "## Data structures: \n",
    "##### are fundamental concepts of computer science which helps in writing efficient programs in any language and it has a way of organizing and storing data sot hey can be accessed and worked with efficiently you'll learn about the various Python data structures and see how they are implemented\n",
    "\n",
    "## arious Python data structures :\n",
    "\n",
    "## basic Data Structures:\n",
    "#### this is some of the basic Data Structures objects\n",
    "\n",
    "##### Integers\n",
    "##### Float\n",
    "##### Strings\n",
    "##### Boolean\n",
    "\n",
    "## advanced Data Structures:\n",
    "#### this is a advanced Data Structures \n",
    "\n",
    "##### Arrays\n",
    "##### Lists\n",
    "##### Tuples\n",
    "##### Dictionary\n",
    "##### Sets"
   ]
  },
  {
   "cell_type": "markdown",
   "metadata": {},
   "source": [
    "# This is a example of how we use Data Structures in a simple way"
   ]
  },
  {
   "cell_type": "markdown",
   "metadata": {},
   "source": [
    "![title](..images/pic3.png)\n",
    "![title](..images/pic4.png)\n",
    "![title](..images/pic5.png)"
   ]
  },
  {
   "cell_type": "code",
   "execution_count": null,
   "metadata": {},
   "outputs": [],
   "source": []
  }
 ],
 "metadata": {
  "kernelspec": {
   "display_name": "Python 3",
   "language": "python",
   "name": "python3"
  },
  "language_info": {
   "codemirror_mode": {
    "name": "ipython",
    "version": 3
   },
   "file_extension": ".py",
   "mimetype": "text/x-python",
   "name": "python",
   "nbconvert_exporter": "python",
   "pygments_lexer": "ipython3",
   "version": "3.7.1"
  }
 },
 "nbformat": 4,
 "nbformat_minor": 2
}
