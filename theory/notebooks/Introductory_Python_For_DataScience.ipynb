{
 "cells": [
  {
   "cell_type": "markdown",
   "metadata": {},
   "source": [
    "<h1><center>Introductory Python for Data Science Notebook</center></h1>"
   ]
  },
  {
   "cell_type": "markdown",
   "metadata": {},
   "source": [
    "<h1><center>Variables and Data Types</center></h1>\n",
    "<h1><center>Introductory Data Structures</center></h1>\n",
    "<h1><center>For Loops and While Loops</center></h1>\n",
    "<h1><center>Functions</center></h1>\n",
    "<h1><center>Basic Numpy and Pandas Operations</center></h1>\n",
    "<h1><center>Basic Matplotlib Visualization</center></h1>"
   ]
  },
  {
   "cell_type": "markdown",
   "metadata": {},
   "source": [
    "<h1><center>1.Variables and Data Types</center></h1>\n",
    "\n",
    "## 1.1 Variables: \n",
    "##### you can think of variables as box containers that reserved memory locations to store values. This means that when you create a variable you reserve some space in memory.\n",
    "\n",
    "## 1.2 Data Types:\n",
    "##### in Python every value have a data type such as:\n",
    "\n",
    "### Numbers:\n",
    "##### There are two types of number:\n",
    "##### integers: which are whole numbers\n",
    "##### floating: which are numbers with decimal\n",
    "\n",
    "### Strings: \n",
    "##### Strings are collections of letters or words In Python, you can create strings by enclosing single or double quotes\n",
    "\n",
    "### Lists:\n",
    "##### The list type is a container that holds bunch of objects in a given order and it also allows you to add and remove objects\n",
    "\n",
    "### Tuples: \n",
    "##### A tuple is a sequence of immutable objects they are just like lists The differences between tuples and lists are, the tuples cannot be changed unlike lists and tuples use parentheses, whereas lists use square brackets.\n",
    "\n",
    "### Dictionaries:\n",
    "##### A dictionary in Python is an unordered collection of items that contain two element and they are keys and values "
   ]
  },
  {
   "cell_type": "markdown",
   "metadata": {},
   "source": [
    "### We created a program that calculate the sum of two number and we printed out the result using the print() function and of course we can apply that for multiplication and division and the subtraction"
   ]
  },
  {
   "cell_type": "markdown",
   "metadata": {},
   "source": [
    "![title](../images/pic1.png)"
   ]
  },
  {
   "cell_type": "markdown",
   "metadata": {},
   "source": [
    "### As we can can get the sum of two numbers we can do that for strings to"
   ]
  },
  {
   "cell_type": "markdown",
   "metadata": {},
   "source": [
    "![title](../images/pic2.png)"
   ]
  },
  {
   "cell_type": "markdown",
   "metadata": {},
   "source": [
    "<h1><center>2 Introductory Data Structures</center></h1>\n",
    "\n",
    "## 2.1 Data structures: \n",
    "##### are fundamental concepts of computer science which helps in writing efficient programs in any language and it has a way of organizing and storing data sot hey can be accessed and worked with efficiently you'll learn about the various Python data structures and see how they are implemented\n",
    "\n",
    "## 2.2 Various Python data structures :\n",
    "\n",
    "### basic Data Structures:\n",
    "#### this is some of the basic Data Structures objects\n",
    "\n",
    "##### Integers\n",
    "##### Float\n",
    "##### Strings\n",
    "##### Boolean\n",
    "\n",
    "### advanced Data Structures:\n",
    "#### this is a advanced Data Structures \n",
    "\n",
    "##### Arrays\n",
    "##### Lists\n",
    "##### Tuples\n",
    "##### Dictionary\n",
    "##### Sets"
   ]
  },
  {
   "cell_type": "markdown",
   "metadata": {},
   "source": [
    "### This is a example of how we use Data Structures in a simple way"
   ]
  },
  {
   "cell_type": "markdown",
   "metadata": {},
   "source": [
    "![title](../images/pic3.png)\n",
    "![title](../images/pic4.png)\n",
    "![title](../images/pic5.png)"
   ]
  },
  {
   "cell_type": "markdown",
   "metadata": {},
   "source": [
    "<h1><center>3 For Loops and While Loops</center></h1>"
   ]
  },
  {
   "cell_type": "markdown",
   "metadata": {},
   "source": [
    "# 3.1 For Loop"
   ]
  },
  {
   "cell_type": "markdown",
   "metadata": {},
   "source": [
    "### What is Loop?"
   ]
  },
  {
   "cell_type": "markdown",
   "metadata": {},
   "source": [
    "##### Loops can execute a block of code number of times until a certain condition is met\n",
    "# 3.2 What is For Loop?\n",
    "##### For loop is used often when you have a piece of code which you want to repeat \"n\" number of time. "
   ]
  },
  {
   "cell_type": "markdown",
   "metadata": {},
   "source": [
    "##### In Python, for loops are called iterators Just like while loop, the for loop is also used to repeat the program But unlike while loop which depends on condition true or false. the For Loop uses the elements that it has to iterate"
   ]
  },
  {
   "cell_type": "markdown",
   "metadata": {},
   "source": [
    "![title](../images/pic7.png)"
   ]
  },
  {
   "cell_type": "markdown",
   "metadata": {},
   "source": [
    "## 3.3 What is While Loop?"
   ]
  },
  {
   "cell_type": "markdown",
   "metadata": {},
   "source": [
    "##### While Loop is used to repeat a block of code It executes the code block multiple times Instead of running the code block once until a certain condition is met."
   ]
  },
  {
   "cell_type": "markdown",
   "metadata": {},
   "source": [
    "###### So now we know what is while loop now lets see how it works  here is a simple example of using a while loop"
   ]
  },
  {
   "cell_type": "markdown",
   "metadata": {},
   "source": [
    "![title](../images/pic6.png)"
   ]
  },
  {
   "cell_type": "markdown",
   "metadata": {},
   "source": [
    "<h1><center>1 Python Functions</center></h1>\n",
    "\n",
    "##### Functions are a convenient way to divide your code into useful blocks and  make it more readable which only runs when it is called.You can pass data, known as parameters, into a function A function can return data as a result."
   ]
  },
  {
   "cell_type": "markdown",
   "metadata": {},
   "source": [
    "## 1.1 Creating a Function\n",
    "\n",
    "#### In Python a function is defined using the def keyword inside the parentheses. You can add as many parameters as you want, just don't forget to separate them with a comma and An optional return statement to return a value from the function\n",
    "\n",
    "## 1.2 Calling a Function\n",
    "\n",
    "### To call a function, use the function name followed by its own parenthesis\n",
    "\n",
    "## 1.3 The return statement\n",
    "\n",
    "##### The return statement is used to exit a function and go back to where it was called."
   ]
  },
  {
   "cell_type": "markdown",
   "metadata": {},
   "source": [
    "![title](../images/pic8.png)"
   ]
  },
  {
   "cell_type": "code",
   "execution_count": null,
   "metadata": {},
   "outputs": [],
   "source": []
  }
 ],
 "metadata": {
  "kernelspec": {
   "display_name": "Python 3",
   "language": "python",
   "name": "python3"
  },
  "language_info": {
   "codemirror_mode": {
    "name": "ipython",
    "version": 3
   },
   "file_extension": ".py",
   "mimetype": "text/x-python",
   "name": "python",
   "nbconvert_exporter": "python",
   "pygments_lexer": "ipython3",
   "version": "3.7.1"
  }
 },
 "nbformat": 4,
 "nbformat_minor": 2
}
