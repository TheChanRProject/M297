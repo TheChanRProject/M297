{
 "cells": [
  {
   "cell_type": "markdown",
   "metadata": {},
   "source": [
    "<h1><center>Introductory Python for Data Science Notebook</center></h1>\n",
    "\n",
    "<h1><center>Variables and Data Types</center></h1>\n",
    "<h1><center>Introductory Data Structures</center></h1>\n",
    "<h1><center>For Loops and While Loops</center></h1>\n",
    "<h1><center>Functions</center></h1>\n",
    "<h1><center>Basic Numpy and Pandas Operations</center></h1>\n",
    "<h1><center>Basic Matplotlib Visualization</center></h1>"
   ]
  },
  {
   "cell_type": "markdown",
   "metadata": {},
   "source": [
    "<h1><center>1.Variables and Data Types</center></h1>\n",
    "\n",
    "## 1.1 Variables: \n",
    "##### you can think of variables as box containers that reserved memory locations to store values. This means that when you create a variable you reserve some space in memory.\n",
    "\n",
    "## 1.2 Data Types:\n",
    "##### in Python every value have a data type such as:\n",
    "\n",
    "### Numbers:\n",
    "##### There are two types of number:\n",
    "##### integers: which are whole numbers\n",
    "##### floating: which are numbers with decimal\n",
    "\n",
    "### Strings: \n",
    "##### Strings are collections of letters or words In Python, you can create strings by enclosing single or double quotes\n",
    "\n",
    "### Lists:\n",
    "##### The list type is a container that holds bunch of objects in a given order and it also allows you to add and remove objects\n",
    "\n",
    "### Tuples: \n",
    "##### A tuple is a sequence of immutable objects they are just like lists The differences between tuples and lists is, the tuples cannot be changed unlike lists and tuples use parentheses, whereas lists use square brackets.\n",
    "\n",
    "### Dictionaries:\n",
    "##### A dictionary in Python is an unordered collection of items that contain two element and they are keys and values "
   ]
  },
  {
   "cell_type": "markdown",
   "metadata": {},
   "source": [
    "### We created a program that calculate the sum of two number and we printed out the result using the print() function and of course we can apply that for multiplication and division and the subtraction"
   ]
  },
  {
   "cell_type": "markdown",
   "metadata": {},
   "source": [
    "![title](../images/pic1.png)"
   ]
  },
  {
   "cell_type": "markdown",
   "metadata": {},
   "source": [
    "### As we can can get the sum of two numbers we can do that for strings to"
   ]
  },
  {
   "cell_type": "markdown",
   "metadata": {},
   "source": [
    "![title](../images/pic2.png)"
   ]
  },
  {
   "cell_type": "markdown",
   "metadata": {},
   "source": [
    "<h1><center>2 Introductory Data Structures</center></h1>\n",
    "\n",
    "## 2.1 Data structures: \n",
    "##### are fundamental concepts of computer science which helps in writing efficient programs in any language and it has a way of organizing and storing data sot hey can be accessed and worked with efficiently you'll learn about the various Python data structures and see how they are implemented\n",
    "\n",
    "## 2.2 Various Python data structures :\n",
    "\n",
    "### basic Data Structures:\n",
    "#### this is some of the basic Data Structures objects\n",
    "\n",
    "##### Integers\n",
    "##### Float\n",
    "##### Strings\n",
    "##### Boolean\n",
    "\n",
    "### advanced Data Structures:\n",
    "#### this is a advanced Data Structures \n",
    "\n",
    "##### Arrays\n",
    "##### Lists\n",
    "##### Tuples\n",
    "##### Dictionary\n",
    "##### Sets"
   ]
  },
  {
   "cell_type": "markdown",
   "metadata": {},
   "source": [
    "## Data Structures in a simple way"
   ]
  },
  {
   "cell_type": "code",
   "execution_count": 3,
   "metadata": {},
   "outputs": [
    {
     "name": "stdout",
     "output_type": "stream",
     "text": [
      "6.0\n",
      "2.0\n",
      "8.0\n",
      "2.0\n",
      "0.0\n",
      "16.0\n",
      "4.0\n"
     ]
    }
   ],
   "source": [
    "# Floats\n",
    "x = 4.0\n",
    "y = 2.0\n",
    "\n",
    "# Addition\n",
    "print (x + y)\n",
    "\n",
    "# Subtraction\n",
    "print (x - y)\n",
    "\n",
    "# Multiplication\n",
    "print (x * y)\n",
    "\n",
    "# Division\n",
    "print (x / y)\n",
    "\n",
    "# Return the Reminder\n",
    "print (x % y)\n",
    "\n",
    "# return x the the power of y\n",
    "print (x ** y)\n",
    "\n",
    "# Return the Absolute value\n",
    "print (abs(x))\n"
   ]
  },
  {
   "cell_type": "markdown",
   "metadata": {},
   "source": [
    "## Advanced Data Structures"
   ]
  },
  {
   "cell_type": "markdown",
   "metadata": {},
   "source": [
    "## Adding items to a list using .append() method"
   ]
  },
  {
   "cell_type": "code",
   "execution_count": 4,
   "metadata": {},
   "outputs": [
    {
     "name": "stdout",
     "output_type": "stream",
     "text": [
      "[1, 2, 3, 4, 5, 6, 7, 8, 9, 10, 11, 'am an item!!!']\n"
     ]
    }
   ],
   "source": [
    "# List of numbers\n",
    "list_ofnums = [1,2,3,4,5,6,7,8,9,10]\n",
    "\n",
    "# Adding number 11 to the list\n",
    "list_ofnums.append (11)\n",
    "#Adding number The string 'am an item!!' to the list\n",
    "list_ofnums.append (\"am an item!!!\")\n",
    "\n",
    "#print out the list \n",
    "print (list_ofnums)"
   ]
  },
  {
   "cell_type": "markdown",
   "metadata": {},
   "source": [
    "## Addition of strings"
   ]
  },
  {
   "cell_type": "code",
   "execution_count": 5,
   "metadata": {},
   "outputs": [
    {
     "name": "stdout",
     "output_type": "stream",
     "text": [
      "I want to drink Milk\n"
     ]
    }
   ],
   "source": [
    "str1 = \"I want to drink \"\n",
    "str2 = \"Milk\"\n",
    "\n",
    "newstr = str1+str2\n",
    "\n",
    "print (newstr)"
   ]
  },
  {
   "cell_type": "markdown",
   "metadata": {},
   "source": [
    "<h1><center>3 For Loops and While Loops</center></h1>"
   ]
  },
  {
   "cell_type": "markdown",
   "metadata": {},
   "source": [
    "# 3.1 For Loop"
   ]
  },
  {
   "cell_type": "markdown",
   "metadata": {},
   "source": [
    "### What is  a Loop?"
   ]
  },
  {
   "cell_type": "markdown",
   "metadata": {},
   "source": [
    "##### Loops can execute a block of code number of times until a certain condition is met\n",
    "# 3.2 What is For Loop?\n",
    "##### For loop is used often when you have a piece of code which you want to repeat \"n\" number of time. "
   ]
  },
  {
   "cell_type": "markdown",
   "metadata": {},
   "source": [
    "##### In Python, for loops are called iterators Just like while loop, the for loop is also used to repeat the program But unlike while loop which depends on condition true or false. the For Loop uses the elements that it has to iterate"
   ]
  },
  {
   "cell_type": "code",
   "execution_count": 12,
   "metadata": {},
   "outputs": [
    {
     "name": "stdout",
     "output_type": "stream",
     "text": [
      "1\n",
      "2\n",
      "3\n",
      "4\n",
      "5\n",
      "6\n",
      "7\n",
      "8\n",
      "9\n",
      "10\n"
     ]
    }
   ],
   "source": [
    "#How we use a for loop \n",
    "# the x is a varaible name you can name it how ever you wnat\n",
    "for x in range(1,11):\n",
    "    print (x)"
   ]
  },
  {
   "cell_type": "markdown",
   "metadata": {},
   "source": [
    "## 3.3 What is While Loop?"
   ]
  },
  {
   "cell_type": "markdown",
   "metadata": {},
   "source": [
    "##### While Loop is used to repeat a block of code It executes the code block multiple times Instead of running the code block once until a certain condition is met."
   ]
  },
  {
   "cell_type": "markdown",
   "metadata": {},
   "source": [
    "###### So now we know what is while loop now lets see how it works  here is a simple example of using a while loop"
   ]
  },
  {
   "cell_type": "code",
   "execution_count": 16,
   "metadata": {},
   "outputs": [
    {
     "name": "stdout",
     "output_type": "stream",
     "text": [
      "1\n",
      "2\n",
      "3\n",
      "4\n",
      "5\n",
      "6\n"
     ]
    }
   ],
   "source": [
    "# Variable x\n",
    "x = 0\n",
    "\n",
    "# while x is less then 6 print x + 1\n",
    "while (x < 6):\n",
    "    x = x + 1\n",
    "    print (x)"
   ]
  },
  {
   "cell_type": "markdown",
   "metadata": {},
   "source": [
    "<h1><center>1 Python Functions</center></h1>\n",
    "\n",
    "##### Functions are a convenient way to divide code into useful blocks and  make it more readable which only runs when it is called.You can pass data, known as parameters, into a function A function can return data as a result."
   ]
  },
  {
   "cell_type": "markdown",
   "metadata": {},
   "source": [
    "## 1.1 Creating a Function\n",
    "\n",
    "#### In Python a function is defined using the def keyword inside the parentheses. You can add as many parameters as you want, just don't forget to separate them with a comma and An optional return statement to return a value from the function\n",
    "\n",
    "## 1.2 Calling a Function\n",
    "\n",
    "### To call a function, use the function name followed by its own parenthesis\n",
    "\n",
    "## 1.3 The return statement\n",
    "\n",
    "##### The return statement is used to exit a function and go back to where it was called."
   ]
  },
  {
   "cell_type": "code",
   "execution_count": 21,
   "metadata": {},
   "outputs": [
    {
     "data": {
      "text/plain": [
       "'hey'"
      ]
     },
     "execution_count": 21,
     "metadata": {},
     "output_type": "execute_result"
    }
   ],
   "source": [
    "# the function my_word have a parameter word inside of it \n",
    "def my_word(word = \"hey\"):\n",
    "    # here we return the word\n",
    "    return word\n",
    "# simply call the function and print out the string 'hey'\n",
    "my_word()"
   ]
  },
  {
   "cell_type": "markdown",
   "metadata": {},
   "source": [
    "<h1><center>Basic Numpy and Pandas Operations</center></h1>"
   ]
  },
  {
   "cell_type": "markdown",
   "metadata": {},
   "source": [
    "# What is NumPy?:\n",
    "\n",
    "##### NumPy is a Linear Algebra Library for Python it is one of the packages that you just can’t miss when you’re learning data science,this library provides you with an array data structure that holds some benefits over Python lists"
   ]
  },
  {
   "cell_type": "markdown",
   "metadata": {},
   "source": [
    "### How to Use NumPy\n",
    "\n",
    "##### numPy has many built-in functions we will focus on some of the most important once\n",
    "##### Once you install NumPy let's import it as a library "
   ]
  },
  {
   "cell_type": "code",
   "execution_count": 23,
   "metadata": {},
   "outputs": [],
   "source": [
    "import numpy as npy"
   ]
  },
  {
   "cell_type": "markdown",
   "metadata": {},
   "source": [
    "# Numpy Arrays\n",
    "\n",
    "##### throughout the course we will be using arrays, it come in two flavors vectors and matrices \n",
    "\n",
    "##### we have 1d arrays and  2d matrices \n",
    "\n",
    "# Creating NumPy Arrays\n",
    "\n",
    "## Note  We can create an array by directly converting a list\n",
    "\n",
    "### 1dimensional array"
   ]
  },
  {
   "cell_type": "code",
   "execution_count": 25,
   "metadata": {},
   "outputs": [
    {
     "data": {
      "text/plain": [
       "array([1, 2, 3, 4, 5])"
      ]
     },
     "execution_count": 25,
     "metadata": {},
     "output_type": "execute_result"
    }
   ],
   "source": [
    "mylist = [1,2,3,4,5] \n",
    "\n",
    "npy.array(mylist)"
   ]
  },
  {
   "cell_type": "markdown",
   "metadata": {},
   "source": [
    "### 2 dimensional matrices"
   ]
  },
  {
   "cell_type": "code",
   "execution_count": 27,
   "metadata": {},
   "outputs": [
    {
     "data": {
      "text/plain": [
       "array([[1, 2, 3],\n",
       "       [4, 5, 6],\n",
       "       [7, 8, 9]])"
      ]
     },
     "execution_count": 27,
     "metadata": {},
     "output_type": "execute_result"
    }
   ],
   "source": [
    "my_matrix = [[1,2,3],[4,5,6],[7,8,9]]\n",
    "npy.array(my_matrix)\n"
   ]
  },
  {
   "cell_type": "markdown",
   "metadata": {},
   "source": [
    "## Built-in Methods\n",
    "\n",
    "##### There are lots of built-in Methods"
   ]
  },
  {
   "cell_type": "markdown",
   "metadata": {},
   "source": [
    "##### arange, zeros, ones, linspace, eye, random, reshape, max, min, argmax, argmin, shape, dtype\n",
    "\n",
    "## arange\n",
    "\n",
    "##### arange method is similar to a range method it just show numbers in  a specific range like the in given example"
   ]
  },
  {
   "cell_type": "code",
   "execution_count": 29,
   "metadata": {},
   "outputs": [
    {
     "data": {
      "text/plain": [
       "array([0, 1, 2, 3, 4, 5, 6, 7, 8, 9])"
      ]
     },
     "execution_count": 29,
     "metadata": {},
     "output_type": "execute_result"
    }
   ],
   "source": [
    "npy.arange(0,10)"
   ]
  },
  {
   "cell_type": "markdown",
   "metadata": {},
   "source": [
    "## Zeros\n",
    "\n",
    "#### Generate arrays of zeros"
   ]
  },
  {
   "cell_type": "code",
   "execution_count": 31,
   "metadata": {},
   "outputs": [
    {
     "data": {
      "text/plain": [
       "array([0., 0., 0., 0., 0.])"
      ]
     },
     "execution_count": 31,
     "metadata": {},
     "output_type": "execute_result"
    }
   ],
   "source": [
    "# 1 dimensional arrays\n",
    "npy.zeros(5)"
   ]
  },
  {
   "cell_type": "code",
   "execution_count": 34,
   "metadata": {},
   "outputs": [
    {
     "data": {
      "text/plain": [
       "array([[0., 0., 0.],\n",
       "       [0., 0., 0.],\n",
       "       [0., 0., 0.]])"
      ]
     },
     "execution_count": 34,
     "metadata": {},
     "output_type": "execute_result"
    }
   ],
   "source": [
    "# 2dimensional matrices\n",
    "npy.zeros((3,3))"
   ]
  },
  {
   "cell_type": "markdown",
   "metadata": {},
   "source": [
    "## Ones\n",
    "\n",
    "##### generatre arrays of ones"
   ]
  },
  {
   "cell_type": "code",
   "execution_count": 35,
   "metadata": {},
   "outputs": [
    {
     "data": {
      "text/plain": [
       "array([1., 1., 1., 1., 1., 1., 1., 1., 1., 1.])"
      ]
     },
     "execution_count": 35,
     "metadata": {},
     "output_type": "execute_result"
    }
   ],
   "source": [
    "# 1 dimensional array\n",
    "npy.ones(10)"
   ]
  },
  {
   "cell_type": "code",
   "execution_count": 36,
   "metadata": {},
   "outputs": [
    {
     "data": {
      "text/plain": [
       "array([[1., 1., 1., 1., 1., 1., 1., 1., 1., 1.],\n",
       "       [1., 1., 1., 1., 1., 1., 1., 1., 1., 1.],\n",
       "       [1., 1., 1., 1., 1., 1., 1., 1., 1., 1.],\n",
       "       [1., 1., 1., 1., 1., 1., 1., 1., 1., 1.],\n",
       "       [1., 1., 1., 1., 1., 1., 1., 1., 1., 1.],\n",
       "       [1., 1., 1., 1., 1., 1., 1., 1., 1., 1.],\n",
       "       [1., 1., 1., 1., 1., 1., 1., 1., 1., 1.],\n",
       "       [1., 1., 1., 1., 1., 1., 1., 1., 1., 1.],\n",
       "       [1., 1., 1., 1., 1., 1., 1., 1., 1., 1.],\n",
       "       [1., 1., 1., 1., 1., 1., 1., 1., 1., 1.]])"
      ]
     },
     "execution_count": 36,
     "metadata": {},
     "output_type": "execute_result"
    }
   ],
   "source": [
    "# 2dimensional matrices\n",
    "npy.ones((10,10))"
   ]
  },
  {
   "cell_type": "markdown",
   "metadata": {},
   "source": [
    "## linspace\n",
    "\n",
    "##### linspace Return spaced numbers over a specified interval"
   ]
  },
  {
   "cell_type": "code",
   "execution_count": 45,
   "metadata": {},
   "outputs": [
    {
     "data": {
      "text/plain": [
       "array([ 0.,  5., 10.])"
      ]
     },
     "execution_count": 45,
     "metadata": {},
     "output_type": "execute_result"
    }
   ],
   "source": [
    "npy.linspace(0,10,3)"
   ]
  },
  {
   "cell_type": "code",
   "execution_count": 47,
   "metadata": {},
   "outputs": [
    {
     "data": {
      "text/plain": [
       "array([0.        , 0.26315789, 0.52631579, 0.78947368, 1.05263158,\n",
       "       1.31578947, 1.57894737, 1.84210526, 2.10526316, 2.36842105,\n",
       "       2.63157895, 2.89473684, 3.15789474, 3.42105263, 3.68421053,\n",
       "       3.94736842, 4.21052632, 4.47368421, 4.73684211, 5.        ])"
      ]
     },
     "execution_count": 47,
     "metadata": {},
     "output_type": "execute_result"
    }
   ],
   "source": [
    "npy.linspace(0,5,20)"
   ]
  },
  {
   "cell_type": "markdown",
   "metadata": {},
   "source": []
  },
  {
   "cell_type": "markdown",
   "metadata": {},
   "source": [
    "## random\n",
    "\n",
    "##### create random number arrays\n",
    "\n",
    "### rand\n",
    "\n",
    "##### Create an array of the given shape and populate it with random samples from a uniform distribution 0, 1"
   ]
  },
  {
   "cell_type": "code",
   "execution_count": 52,
   "metadata": {},
   "outputs": [
    {
     "data": {
      "text/plain": [
       "array([0.97940914, 0.32108001, 0.83743152, 0.05970451, 0.51947388])"
      ]
     },
     "execution_count": 52,
     "metadata": {},
     "output_type": "execute_result"
    }
   ],
   "source": [
    "npy.random.rand(5)"
   ]
  },
  {
   "cell_type": "markdown",
   "metadata": {},
   "source": [
    "### randn\n",
    "\n",
    "######  Return a samples from the a standard normal distribution"
   ]
  },
  {
   "cell_type": "code",
   "execution_count": 57,
   "metadata": {},
   "outputs": [
    {
     "data": {
      "text/plain": [
       "array([0.64232067, 0.72972278])"
      ]
     },
     "execution_count": 57,
     "metadata": {},
     "output_type": "execute_result"
    }
   ],
   "source": [
    "#1 dimensional array\n",
    "npy.random.randn(2)"
   ]
  },
  {
   "cell_type": "code",
   "execution_count": 59,
   "metadata": {},
   "outputs": [
    {
     "data": {
      "text/plain": [
       "array([[ 1.60245595, -0.94529002, -0.14594191],\n",
       "       [ 0.02376959, -2.45799181, -0.07749712],\n",
       "       [-0.34463631,  1.21901256, -0.38625426]])"
      ]
     },
     "execution_count": 59,
     "metadata": {},
     "output_type": "execute_result"
    }
   ],
   "source": [
    "# 2 dimensional matrices\n",
    "npy.random.randn(3,3)"
   ]
  },
  {
   "cell_type": "markdown",
   "metadata": {},
   "source": [
    "### randint \n",
    "\n",
    "##### Return random integers from low value to high value"
   ]
  },
  {
   "cell_type": "code",
   "execution_count": 69,
   "metadata": {},
   "outputs": [
    {
     "data": {
      "text/plain": [
       "28"
      ]
     },
     "execution_count": 69,
     "metadata": {},
     "output_type": "execute_result"
    }
   ],
   "source": [
    "# return random single intger\n",
    "npy.random.randint(1,100)"
   ]
  },
  {
   "cell_type": "code",
   "execution_count": 66,
   "metadata": {},
   "outputs": [
    {
     "data": {
      "text/plain": [
       "array([ 1, 57, 71, 56, 92, 56, 24, 49, 44, 90])"
      ]
     },
     "execution_count": 66,
     "metadata": {},
     "output_type": "execute_result"
    }
   ],
   "source": [
    "# return random intgers between 1 and 100 in step size of 10 numbers\n",
    "npy.random.randint(1,100,10)"
   ]
  },
  {
   "cell_type": "markdown",
   "metadata": {},
   "source": [
    "### max, min, argmax, argmin\n",
    "\n",
    "##### this methods we use for finding max or min values. Or to find their index locations using argmin or argmax"
   ]
  },
  {
   "cell_type": "code",
   "execution_count": 83,
   "metadata": {},
   "outputs": [],
   "source": [
    "myarray = npy.arange(30)"
   ]
  },
  {
   "cell_type": "code",
   "execution_count": 84,
   "metadata": {},
   "outputs": [
    {
     "data": {
      "text/plain": [
       "array([ 0,  1,  2,  3,  4,  5,  6,  7,  8,  9, 10, 11, 12, 13, 14, 15, 16,\n",
       "       17, 18, 19, 20, 21, 22, 23, 24, 25, 26, 27, 28, 29])"
      ]
     },
     "execution_count": 84,
     "metadata": {},
     "output_type": "execute_result"
    }
   ],
   "source": [
    "myarray"
   ]
  },
  {
   "cell_type": "code",
   "execution_count": 89,
   "metadata": {},
   "outputs": [
    {
     "data": {
      "text/plain": [
       "29"
      ]
     },
     "execution_count": 89,
     "metadata": {},
     "output_type": "execute_result"
    }
   ],
   "source": [
    "# return max value \n",
    "myarray.max()"
   ]
  },
  {
   "cell_type": "code",
   "execution_count": 90,
   "metadata": {},
   "outputs": [
    {
     "data": {
      "text/plain": [
       "29"
      ]
     },
     "execution_count": 90,
     "metadata": {},
     "output_type": "execute_result"
    }
   ],
   "source": [
    "#return max index of  value \n",
    "myarray.argmax()"
   ]
  },
  {
   "cell_type": "code",
   "execution_count": 91,
   "metadata": {},
   "outputs": [
    {
     "data": {
      "text/plain": [
       "0"
      ]
     },
     "execution_count": 91,
     "metadata": {},
     "output_type": "execute_result"
    }
   ],
   "source": [
    "# return min value \n",
    "myarray.min()"
   ]
  },
  {
   "cell_type": "code",
   "execution_count": 92,
   "metadata": {},
   "outputs": [
    {
     "data": {
      "text/plain": [
       "0"
      ]
     },
     "execution_count": 92,
     "metadata": {},
     "output_type": "execute_result"
    }
   ],
   "source": [
    "# return min index of  value \n",
    "myarray.argmin()"
   ]
  },
  {
   "cell_type": "markdown",
   "metadata": {},
   "source": [
    "## reshape\n",
    "\n",
    "##### Returns the same data with a new shape"
   ]
  },
  {
   "cell_type": "code",
   "execution_count": 95,
   "metadata": {},
   "outputs": [
    {
     "data": {
      "text/plain": [
       "array([[ 0,  1,  2,  3,  4,  5,  6,  7,  8,  9],\n",
       "       [10, 11, 12, 13, 14, 15, 16, 17, 18, 19],\n",
       "       [20, 21, 22, 23, 24, 25, 26, 27, 28, 29]])"
      ]
     },
     "execution_count": 95,
     "metadata": {},
     "output_type": "execute_result"
    }
   ],
   "source": [
    "# the new shape here is we have 3 columns and 10 rows\n",
    "myarray.reshape(3,10)"
   ]
  },
  {
   "cell_type": "markdown",
   "metadata": {},
   "source": [
    "### dtype\n",
    "\n",
    "##### we can also grab a data type of an object inside of  array"
   ]
  },
  {
   "cell_type": "code",
   "execution_count": 96,
   "metadata": {},
   "outputs": [
    {
     "data": {
      "text/plain": [
       "dtype('int32')"
      ]
     },
     "execution_count": 96,
     "metadata": {},
     "output_type": "execute_result"
    }
   ],
   "source": [
    "myarray.dtype"
   ]
  },
  {
   "cell_type": "code",
   "execution_count": null,
   "metadata": {},
   "outputs": [],
   "source": []
  }
 ],
 "metadata": {
  "kernelspec": {
   "display_name": "Python 3",
   "language": "python",
   "name": "python3"
  },
  "language_info": {
   "codemirror_mode": {
    "name": "ipython",
    "version": 3
   },
   "file_extension": ".py",
   "mimetype": "text/x-python",
   "name": "python",
   "nbconvert_exporter": "python",
   "pygments_lexer": "ipython3",
   "version": "3.7.1"
  }
 },
 "nbformat": 4,
 "nbformat_minor": 2
}
